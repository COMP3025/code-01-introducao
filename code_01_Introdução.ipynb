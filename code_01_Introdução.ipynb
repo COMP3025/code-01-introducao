{
  "nbformat": 4,
  "nbformat_minor": 0,
  "metadata": {
    "colab": {
      "name": "code#01-Introdução.ipynb",
      "provenance": [],
      "authorship_tag": "ABX9TyMt2Ul+3xpifsRqCZa5kp8j",
      "include_colab_link": true
    },
    "kernelspec": {
      "name": "python3",
      "display_name": "Python 3"
    }
  },
  "cells": [
    {
      "cell_type": "markdown",
      "metadata": {
        "id": "view-in-github",
        "colab_type": "text"
      },
      "source": [
        "<a href=\"https://colab.research.google.com/github/COMP3025/code-01-introducao/blob/master/code_01_Introdu%C3%A7%C3%A3o.ipynb\" target=\"_parent\"><img src=\"https://colab.research.google.com/assets/colab-badge.svg\" alt=\"Open In Colab\"/></a>"
      ]
    },
    {
      "cell_type": "markdown",
      "metadata": {
        "id": "56r745rOlgEn",
        "colab_type": "text"
      },
      "source": [
        "## Exercício \n",
        "\n",
        "Olá! Vamos praticar alguns comandos através de exercícios _hands on_.\n"
      ]
    },
    {
      "cell_type": "code",
      "metadata": {
        "id": "hW8uzoIoipWf",
        "colab_type": "code",
        "colab": {}
      },
      "source": [
        "#imports\n",
        "import numpy\n",
        "import pandas as pd\n",
        "import matplotlib.pyplot as plt\n",
        "from PIL import Image\n"
      ],
      "execution_count": 0,
      "outputs": []
    },
    {
      "cell_type": "markdown",
      "metadata": {
        "id": "J1V4fMhQnyMh",
        "colab_type": "text"
      },
      "source": [
        "Procurem três tipos de imagens:\n",
        "\n",
        "*   Uma imagem preto e branco;\n",
        "*   Uma imagem em tons de cinza;\n",
        "*   Uma imagem colorida, de extensão `jpg`.\n",
        "\n",
        "Salvem as imagens no GoogleDrive, e carreguem no script. Crie as seguintes variáveis: `imagem_pb`, `imagem_cinza` e `imagem_color`, carregue e \"plote\" as duas imagens.\n"
      ]
    },
    {
      "cell_type": "code",
      "metadata": {
        "id": "nGaNSx2Hnxv0",
        "colab_type": "code",
        "colab": {}
      },
      "source": [
        "# escreva o código aqui"
      ],
      "execution_count": 0,
      "outputs": []
    },
    {
      "cell_type": "markdown",
      "metadata": {
        "id": "OSBwB5FPoqoC",
        "colab_type": "text"
      },
      "source": [
        "Realize uma análise exploratória dos dados das imagens, e responda as questões abaixo:\n"
      ]
    },
    {
      "cell_type": "code",
      "metadata": {
        "id": "Gaw2_xt3o6QY",
        "colab_type": "code",
        "colab": {}
      },
      "source": [
        "# escreva os códigos necessários para análise aqui, inclua pontos de códigos entre\n",
        "# as questões, assim como incluam plots, tabelas, o que for necessário "
      ],
      "execution_count": 0,
      "outputs": []
    },
    {
      "cell_type": "markdown",
      "metadata": {
        "colab_type": "text",
        "id": "ynkHpxp6qUbE"
      },
      "source": [
        "Qual o menor e maior valor das imagens:\n",
        "\n",
        "*   [pb]:\n",
        "*   [cinza]:\n",
        "*   [color]: \n",
        "    * [R]\n",
        "    * [G]\n",
        "    * [B]\n"
      ]
    },
    {
      "cell_type": "markdown",
      "metadata": {
        "id": "M_EVya54paIR",
        "colab_type": "text"
      },
      "source": [
        "Qual o valor da média imagens:\n",
        "\n",
        "*   [pb]:\n",
        "*   [cinza]:\n",
        "*   [color]: \n",
        "    * [R]\n",
        "    * [G]\n",
        "    * [B]\n"
      ]
    },
    {
      "cell_type": "markdown",
      "metadata": {
        "id": "6M7V204_q00Q",
        "colab_type": "text"
      },
      "source": [
        "Qual o valor da mediana imagens:\n",
        "\n",
        "*   [pb]:\n",
        "*   [cinza]:\n",
        "*   [color]: \n",
        "    * [R]\n",
        "    * [G]\n",
        "    * [B]\n",
        "    \n",
        "\n",
        "\n"
      ]
    },
    {
      "cell_type": "markdown",
      "metadata": {
        "id": "6_EdddhxrK55",
        "colab_type": "text"
      },
      "source": [
        "Inverta os valores de `imagem_pb`, e \"plote\" a figura."
      ]
    },
    {
      "cell_type": "code",
      "metadata": {
        "id": "eljjrL5rrcMY",
        "colab_type": "code",
        "colab": {}
      },
      "source": [
        ""
      ],
      "execution_count": 0,
      "outputs": []
    },
    {
      "cell_type": "markdown",
      "metadata": {
        "id": "ryNEpeWrrhuv",
        "colab_type": "text"
      },
      "source": [
        "Faça a média entre os valores `R`, `G` e `B` de `image_color`, e gere uma nova imagem e plot o resultado."
      ]
    },
    {
      "cell_type": "code",
      "metadata": {
        "id": "93z2lmiOspr1",
        "colab_type": "code",
        "colab": {}
      },
      "source": [
        ""
      ],
      "execution_count": 0,
      "outputs": []
    }
  ]
}